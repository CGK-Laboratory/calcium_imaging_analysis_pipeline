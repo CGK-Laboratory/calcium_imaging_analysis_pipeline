{
 "cells": [
  {
   "cell_type": "markdown",
   "id": "f93a3d51-ebf0-40ab-aee5-5603add9210b",
   "metadata": {},
   "source": [
    "# Basic Calcium Imaging Pipeline Using PCA-ICA\n",
    "### Example with 4 rat videos\n",
    "Importing Libraries and Videos for Data Analysis:"
   ]
  },
  {
   "cell_type": "code",
   "execution_count": 1,
   "id": "7077a2cb-b541-4c74-b04b-992431b3b15d",
   "metadata": {},
   "outputs": [
    {
     "ename": "AssertionError",
     "evalue": "None or multiple files found for \\\\CGK_NAS\\Calcium Imaging Data\\Rats\\Calcium Imaging-MUSC Rats\\Cohort 1\\D1-838\\D1-838_StressDay_10121\\2021-10-01-11-27-26_video_trig_0.isxd.",
     "output_type": "error",
     "traceback": [
      "\u001b[1;31m---------------------------------------------------------------------------\u001b[0m",
      "\u001b[1;31mAssertionError\u001b[0m                            Traceback (most recent call last)",
      "Cell \u001b[1;32mIn[1], line 49\u001b[0m\n\u001b[0;32m     45\u001b[0m         newlabels\u001b[38;5;241m.\u001b[39mappend(cell_animal \u001b[38;5;241m+\u001b[39m \u001b[38;5;124m'\u001b[39m\u001b[38;5;124m_\u001b[39m\u001b[38;5;124m'\u001b[39m \u001b[38;5;241m+\u001b[39m session)\n\u001b[0;32m     46\u001b[0m         cell_types\u001b[38;5;241m.\u001b[39mappend(cell_animal[:\u001b[38;5;241m2\u001b[39m])\n\u001b[1;32m---> 49\u001b[0m fh \u001b[38;5;241m=\u001b[39m \u001b[43misx_files_handler\u001b[49m\u001b[43m(\u001b[49m\u001b[43mmain_data_folder\u001b[49m\u001b[38;5;241;43m=\u001b[39;49m\u001b[43mmainfolder\u001b[49m\u001b[43m,\u001b[49m\n\u001b[0;32m     50\u001b[0m \u001b[43m        \u001b[49m\u001b[43moutputsfolders\u001b[49m\u001b[38;5;241;43m=\u001b[39;49m\u001b[43moutputsfolder\u001b[49m\u001b[43m,\u001b[49m\n\u001b[0;32m     51\u001b[0m \u001b[43m        \u001b[49m\u001b[43mdata_subfolders\u001b[49m\u001b[38;5;241;43m=\u001b[39;49m\u001b[43mdata_subfolder\u001b[49m\u001b[43m,\u001b[49m\n\u001b[0;32m     52\u001b[0m \u001b[43m        \u001b[49m\u001b[43mfiles_patterns\u001b[49m\u001b[38;5;241;43m=\u001b[39;49m\u001b[43mfiles_patterns\u001b[49m\u001b[43m,\u001b[49m\n\u001b[0;32m     53\u001b[0m \u001b[43m        \u001b[49m\u001b[43mprocessing_steps\u001b[49m\u001b[38;5;241;43m=\u001b[39;49m\u001b[43m[\u001b[49m\u001b[38;5;124;43m\"\u001b[39;49m\u001b[38;5;124;43mPP\u001b[39;49m\u001b[38;5;124;43m\"\u001b[39;49m\u001b[43m,\u001b[49m\u001b[38;5;124;43m\"\u001b[39;49m\u001b[38;5;124;43mTR\u001b[39;49m\u001b[38;5;124;43m\"\u001b[39;49m\u001b[43m,\u001b[49m\u001b[43m \u001b[49m\u001b[38;5;124;43m\"\u001b[39;49m\u001b[38;5;124;43mBP\u001b[39;49m\u001b[38;5;124;43m\"\u001b[39;49m\u001b[43m,\u001b[49m\u001b[43m \u001b[49m\u001b[38;5;124;43m\"\u001b[39;49m\u001b[38;5;124;43mMC\u001b[39;49m\u001b[38;5;124;43m\"\u001b[39;49m\u001b[43m]\u001b[49m\u001b[43m,\u001b[49m\u001b[43m \u001b[49m\u001b[43mrecording_labels\u001b[49m\u001b[43m \u001b[49m\u001b[38;5;241;43m=\u001b[39;49m\u001b[43m \u001b[49m\u001b[43mnewlabels\u001b[49m\u001b[43m)\u001b[49m\n\u001b[0;32m     55\u001b[0m video_len_seconds \u001b[38;5;241m=\u001b[39m \u001b[38;5;28mint\u001b[39m(\u001b[38;5;241m29.5\u001b[39m \u001b[38;5;241m*\u001b[39m \u001b[38;5;241m60\u001b[39m)\n",
      "File \u001b[1;32m~\\Documents\\FC\\codes\\calcium_imaging_analysis_pipeline\\cgk_calcium_tools\\filehandler.py:88\u001b[0m, in \u001b[0;36misx_files_handler.__init__\u001b[1;34m(self, main_data_folder, outputsfolders, data_subfolders, files_patterns, processing_steps, one_file_per_folder, recording_labels, parameters_path)\u001b[0m\n\u001b[0;32m     85\u001b[0m files \u001b[38;5;241m=\u001b[39m glob(\u001b[38;5;28mstr\u001b[39m(Path(mainf)\u001b[38;5;241m/\u001b[39mf\u001b[38;5;241m/\u001b[39mfpatter), recursive\u001b[38;5;241m=\u001b[39m\u001b[38;5;28;01mFalse\u001b[39;00m)\n\u001b[0;32m     87\u001b[0m \u001b[38;5;28;01mif\u001b[39;00m one_file_per_folder:\n\u001b[1;32m---> 88\u001b[0m     \u001b[38;5;28;01massert\u001b[39;00m \u001b[38;5;28mlen\u001b[39m(files) \u001b[38;5;241m==\u001b[39m \u001b[38;5;241m1\u001b[39m, \u001b[38;5;124m\"\u001b[39m\u001b[38;5;124mNone or multiple files found for \u001b[39m\u001b[38;5;132;01m{}\u001b[39;00m\u001b[38;5;124m.\u001b[39m\u001b[38;5;124m\"\u001b[39m\u001b[38;5;241m.\u001b[39mformat(\n\u001b[0;32m     89\u001b[0m         \u001b[38;5;28mstr\u001b[39m(Path(mainf) \u001b[38;5;241m/\u001b[39m f \u001b[38;5;241m/\u001b[39m fpatter)\n\u001b[0;32m     90\u001b[0m     )\n\u001b[0;32m     91\u001b[0m     \u001b[38;5;28mself\u001b[39m\u001b[38;5;241m.\u001b[39mrec_paths\u001b[38;5;241m.\u001b[39mappend(files[\u001b[38;5;241m0\u001b[39m])\n\u001b[0;32m     92\u001b[0m     \u001b[38;5;28mself\u001b[39m\u001b[38;5;241m.\u001b[39moutputsfolders\u001b[38;5;241m.\u001b[39mappend(Path(outf)\u001b[38;5;241m/\u001b[39mf)\n",
      "\u001b[1;31mAssertionError\u001b[0m: None or multiple files found for \\\\CGK_NAS\\Calcium Imaging Data\\Rats\\Calcium Imaging-MUSC Rats\\Cohort 1\\D1-838\\D1-838_StressDay_10121\\2021-10-01-11-27-26_video_trig_0.isxd."
     ]
    }
   ],
   "source": [
    "import os  # operating system\n",
    "from glob import glob\n",
    "from pathlib import Path  # to work with directories\n",
    "\n",
    "import isx  # Inscopix API\n",
    "import matplotlib.pyplot as plt  # data visualization\n",
    "import numpy as np  # to manipulate data matrix\n",
    "import pandas as pd  # data analysis library\n",
    "import seaborn as sns\n",
    "from cgk_calcium_tools import isx_files_handler #, plot_max_dff_and_cellmap_fh\n",
    "from scipy import stats  # statistics library\n",
    "\n",
    "sns.set_style(\"darkgrid\")\n",
    "\n",
    "\n",
    "outputsfolder = 'H:\\\\pipeline_example'  #it could be a list\n",
    "mainfolder = '//CGK_NAS/Calcium Imaging Data/Rats/Calcium Imaging-MUSC Rats/Cohort 1' #it could be a list\n",
    "\n",
    "\n",
    "\n",
    "data_subfolder = 'D1-838/D1-838_StressDay_10121' #it could be a list\n",
    "\n",
    "# the videos are saved in folders based the animal id and the day when the videos were recorded\n",
    "files_patterns = [\n",
    "    \"2021-10-01-11-27-26_video_trig_0.isxd\",\n",
    "    \"2021-10-01-12-07-09_video_trig_0.isxd\",\n",
    "    \"2021-10-01-13-42-25_video_trig_0.isxd\",\n",
    "    \"2021-10-01-14-14-37_video_trig_0.isxd\",\n",
    "]\n",
    "\n",
    "animal_sessions = { \n",
    "    #a key for each animal\n",
    "    'D1-838': ['P1','S1','S2','P2'] #sessions in the same order as the files\n",
    "}\n",
    "\n",
    "#the next lines creates lists with the cell type and other metadata for each file using our naming convention and animal_sessions \n",
    "rats_ID = []\n",
    "session_names = []\n",
    "newlabels = []\n",
    "cell_types = []\n",
    "for cell_animal,sessions in animal_sessions.items():\n",
    "    for session in sessions: \n",
    "        rats_ID.append(cell_animal[3:])\n",
    "        session_names.append(session)\n",
    "        newlabels.append(cell_animal + '_' + session)\n",
    "        cell_types.append(cell_animal[:2])\n",
    "\n",
    "\n",
    "fh = isx_files_handler(main_data_folder=mainfolder,\n",
    "        outputsfolders=outputsfolder,\n",
    "        data_subfolders=data_subfolder,\n",
    "        files_patterns=files_patterns,\n",
    "        processing_steps=[\"PP\",\"TR\", \"BP\", \"MC\"], recording_labels = newlabels)\n",
    "\n",
    "video_len_seconds = int(29.5 * 60)  # setting the length of the video"
   ]
  },
  {
   "cell_type": "code",
   "execution_count": null,
   "id": "8d780e96-d8bd-4a16-bca9-84762c1ab43c",
   "metadata": {
    "scrolled": true
   },
   "outputs": [],
   "source": [
    "# create a table with video metadata\n",
    "df_vd=fh.get_raw_movies_info().set_index(\"Full Path\")"
   ]
  },
  {
   "cell_type": "markdown",
   "id": "7ae2ea07-f389-4cc6-ae62-a584b17d2289",
   "metadata": {},
   "source": [
    "Checking the length of videos"
   ]
  },
  {
   "cell_type": "code",
   "execution_count": null,
   "id": "0056a6e0-3beb-4a56-8bec-88cd5ebd6458",
   "metadata": {},
   "outputs": [],
   "source": [
    "df_vd[\"Duration (s)\"] > video_len_seconds"
   ]
  },
  {
   "cell_type": "markdown",
   "id": "f256902f-2dd2-49ec-b1f7-cbe0fb347a68",
   "metadata": {},
   "source": [
    "Trimming the videos to the same length "
   ]
  },
  {
   "cell_type": "code",
   "execution_count": null,
   "id": "fc0ef104-41e4-47fd-beda-5c1978e58775",
   "metadata": {
    "scrolled": true
   },
   "outputs": [],
   "source": [
    "fh.de_interleave(False)\n",
    "fh.run_step('PP')"
   ]
  },
  {
   "cell_type": "markdown",
   "id": "ba66b9a6-11cb-4127-b96d-1313ee545ccc",
   "metadata": {},
   "source": [
    "This Cell preprocesses the videos and apply a spatial filter.\n",
    "Preprocessing removes artifacts from the videos and reduces the size of the videos.\n",
    "The Spatial filter removes the low and high frequency contents (removes noise).\n"
   ]
  },
  {
   "cell_type": "code",
   "execution_count": null,
   "id": "fbdc8af3-52c2-4446-95c5-253d3d91bcaa",
   "metadata": {},
   "outputs": [],
   "source": [
    "fh.run_step('TR')\n",
    "fh.run_step('BP')\n",
    "fh.run_step('MC')"
   ]
  },
  {
   "cell_type": "markdown",
   "id": "3305a0e0-e1ac-40ae-b78d-923192b42554",
   "metadata": {},
   "source": [
    "This next applies motion correction to the videos removing any movement so the pixels align with the field of view in all frames."
   ]
  },
  {
   "cell_type": "code",
   "execution_count": null,
   "id": "ab7daaa3-2c69-4754-843f-afaaa982bd26",
   "metadata": {},
   "outputs": [],
   "source": [
    "fh.create_dff()\n",
    "fh.project_movie()"
   ]
  },
  {
   "cell_type": "markdown",
   "id": "122bea12-dc9d-4071-ad6c-f8a481b2c544",
   "metadata": {},
   "source": [
    "DeltaF/F0 normalizes the pixel values in the movies so that the variation in intensity is not due to spatial variation"
   ]
  },
  {
   "cell_type": "markdown",
   "id": "901d595f-adf8-4bfb-8996-a42cceb211b8",
   "metadata": {},
   "source": [
    "The PCA-ICA algorithm identifies the spatial location of cells in the video and their associated activity using the principal and independent components of the video."
   ]
  },
  {
   "cell_type": "code",
   "execution_count": null,
   "id": "bcf2ac0b-a917-4cb4-aac1-ea68f59f702a",
   "metadata": {},
   "outputs": [],
   "source": [
    "fh.extract_cells('pca-ica')"
   ]
  },
  {
   "cell_type": "markdown",
   "id": "95fbc610-431d-41ab-9030-dd2c7591a009",
   "metadata": {},
   "source": [
    "Event Detection allows cells to be identified when they have an activity\n",
    "\n",
    "This filters accepted cells based on different cell criteria"
   ]
  },
  {
   "cell_type": "markdown",
   "id": "a678d0dd-0038-4b2f-baf7-626cb97a2f41",
   "metadata": {},
   "source": [
    "Shows the cellmaps for the accepted cells"
   ]
  },
  {
   "cell_type": "code",
   "execution_count": null,
   "id": "e4f3f504-eb2f-4fa8-8fbd-012903097667",
   "metadata": {},
   "outputs": [],
   "source": [
    "import warnings\n",
    "\n",
    "warnings.filterwarnings(\"ignore\")\n",
    "fig = plt.figure(figsize=(10, 8))\n",
    "for i, raw in enumerate(files_handler.rec_names):\n",
    "    plt.subplot(2, 2, i + 1 + i // 4)\n",
    "    cell_image = plot_max_dff_and_cellmap_fh(\n",
    "        files_handler,\n",
    "        idx=i,\n",
    "        eqhist=True,\n",
    "        cellsetname=\"pca-ica-cellset\",\n",
    "        status_list=[\"accepted\"],\n",
    "    )\n",
    "    plt.title(newlabels[i])\n",
    "    plt.xticks([])\n",
    "    plt.yticks([])\n",
    "fig.suptitle(\"Detected and Accepted Cells\", fontsize=16)\n",
    "\n",
    "plt.tight_layout()"
   ]
  },
  {
   "cell_type": "markdown",
   "id": "bfca108b-b04e-4171-9d3e-6f251144b95e",
   "metadata": {},
   "source": [
    "Creates a plot of the cell traces"
   ]
  },
  {
   "cell_type": "code",
   "execution_count": null,
   "id": "7de65da8-c52b-46ef-98da-12e70646694b",
   "metadata": {},
   "outputs": [],
   "source": [
    "plt.figure(figsize=(20, 12))\n",
    "for fi, (name, cellset) in enumerate(\n",
    "    zip(newlabels, files_handler.get_results_filenames(\"pca-ica-cellset\", op=\"MC\"))\n",
    "):\n",
    "    plt.subplot(2, 2, fi + 1 + fi // 4)\n",
    "    cs = isx.CellSet.read(cellset)\n",
    "    for n in range(cs.num_cells):\n",
    "        if cs.get_cell_status(n) == \"accepted\":\n",
    "            plt.plot(cs.get_cell_trace_data(n))\n",
    "    plt.ylabel(name)"
   ]
  },
  {
   "cell_type": "markdown",
   "id": "e0cdb5a6-6887-4ad4-8dd0-4abf25c7b7f5",
   "metadata": {},
   "source": [
    "Creates the data to calculate average firing rate (events per minute) of the cells"
   ]
  },
  {
   "cell_type": "code",
   "execution_count": null,
   "id": "da981d83-4e2d-4eca-acf5-6ef39c7f60a7",
   "metadata": {},
   "outputs": [],
   "source": [
    "metadata = pd.DataFrame(\n",
    "    {\n",
    "        \"file\": files_handler.get_results_filenames(\"pca-ica-cellset\", op=\"MC\"),\n",
    "        \"animal_id\": rats_ID,\n",
    "        \"session_name\": session_names,\n",
    "    }\n",
    ")\n",
    "\n",
    "events_df = []\n",
    "for cellset, events in zip(\n",
    "    files_handler.get_results_filenames(\"pca-ica-cellset\", op=\"MC\"),\n",
    "    files_handler.get_results_filenames(\"pca-ica-event\", op=\"MC\"),\n",
    "):\n",
    "    ev = isx.EventSet.read(events)\n",
    "    cs = isx.CellSet.read(cellset)\n",
    "    for n in range(cs.num_cells):\n",
    "        if cs.get_cell_status(n) == \"accepted\":\n",
    "            events_df.append(\n",
    "                pd.DataFrame(\n",
    "                    {\n",
    "                        \"file\": cellset,\n",
    "                        \"events_us\": ev.get_cell_data(n)[0],\n",
    "                        \"cell_name\": cs.get_cell_name(n),\n",
    "                    }\n",
    "                )\n",
    "            )\n",
    "events_df = pd.concat(events_df)\n",
    "events_df[\"minutes\"] = events_df[\"events_us\"] / (60 * 1e6)\n",
    "events_df = events_df.merge(metadata, on=[\"file\"])\n",
    "firing_rate = pd.DataFrame(\n",
    "    events_df.groupby([\"file\", \"cell_name\"]).count()[\"events_us\"]\n",
    ")\n",
    "firing_rate[\"#events/minute\"] = firing_rate[\"events_us\"] / (video_len_seconds / 60)\n",
    "firing_rate = firing_rate.merge(metadata, on=[\"file\"])"
   ]
  },
  {
   "cell_type": "markdown",
   "id": "e0b76bae-b15f-462f-907d-d0f0abbe8a94",
   "metadata": {},
   "source": [
    "Example of bar graph to plot firing rate"
   ]
  },
  {
   "cell_type": "code",
   "execution_count": null,
   "id": "60516cb2-dab4-409e-a1f5-897c9302524c",
   "metadata": {},
   "outputs": [],
   "source": [
    "ax = sns.barplot(data=firing_rate, x=\"session_name\", y=\"#events/minute\", errorbar=\"se\")\n",
    "plt.title(\"Mean Firing Rate\")\n",
    "\n",
    "sns.stripplot(\n",
    "    x=\"session_name\", y=\"#events/minute\", data=firing_rate, ax=ax,color='black',size=4\n",
    ")"
   ]
  },
  {
   "cell_type": "markdown",
   "id": "88030344-9f63-4857-b083-845db9c1a7f1",
   "metadata": {},
   "source": [
    "Calculates the cumulative events over each session"
   ]
  },
  {
   "cell_type": "code",
   "execution_count": null,
   "id": "949ab73a-38dc-4db6-ad36-604fa77ec465",
   "metadata": {},
   "outputs": [],
   "source": [
    "times = np.linspace(\n",
    "    0, video_len_seconds / 60, int(video_len_seconds * 2 / 60)\n",
    ")  # 2 points per minute\n",
    "cum_events_df = []\n",
    "for file in events_df.file.unique():\n",
    "    for cell in events_df[events_df.file == file][\"cell_name\"].unique():\n",
    "        evs = np.sort(\n",
    "            events_df[(events_df[\"cell_name\"] == cell) * (events_df.file == file)][\n",
    "                \"minutes\"\n",
    "            ].values\n",
    "        )\n",
    "        calc_cum_events = np.vectorize(lambda x: sum(evs < x))\n",
    "        cum_events = calc_cum_events(times)\n",
    "\n",
    "        cum_events_df.append(\n",
    "            pd.DataFrame(\n",
    "                {\n",
    "                    \"file\": file,\n",
    "                    \"cell_name\": cell,\n",
    "                    \"Time (minutes)\": times,\n",
    "                    \"cumulative events\": cum_events.copy(),\n",
    "                }\n",
    "            )\n",
    "        )\n",
    "\n",
    "\n",
    "cum_events_df = pd.concat(cum_events_df)\n",
    "cum_events_df = cum_events_df.merge(metadata, on=[\"file\"])\n",
    "display(cum_events_df)"
   ]
  },
  {
   "cell_type": "markdown",
   "id": "722d3b3c-7fd1-4b7a-8893-415a68c064ad",
   "metadata": {},
   "source": [
    "Plots the event frequency of the cells during the recording"
   ]
  },
  {
   "cell_type": "code",
   "execution_count": null,
   "id": "5db60275-cb4e-4096-b3e6-c60f888fb22b",
   "metadata": {},
   "outputs": [],
   "source": [
    "sns.relplot(\n",
    "    x=\"Time (minutes)\",\n",
    "    y=\"cumulative events\",\n",
    "    hue=\"session_name\",\n",
    "    data=cum_events_df,\n",
    "    kind=\"line\",\n",
    "    facet_kws={\"sharey\": False},\n",
    "    errorbar=\"se\",\n",
    ")"
   ]
  }
 ],
 "metadata": {
  "kernelspec": {
   "display_name": "isxenv",
   "language": "python",
   "name": "isxenv"
  },
  "language_info": {
   "codemirror_mode": {
    "name": "ipython",
    "version": 3
   },
   "file_extension": ".py",
   "mimetype": "text/x-python",
   "name": "python",
   "nbconvert_exporter": "python",
   "pygments_lexer": "ipython3",
   "version": "3.10.12"
  }
 },
 "nbformat": 4,
 "nbformat_minor": 5
}
